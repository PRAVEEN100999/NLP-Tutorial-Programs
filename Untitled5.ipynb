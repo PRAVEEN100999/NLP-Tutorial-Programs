{
 "cells": [
  {
   "cell_type": "code",
   "execution_count": 6,
   "metadata": {},
   "outputs": [
    {
     "name": "stdout",
     "output_type": "stream",
     "text": [
      "101011111110\n",
      "YES\n"
     ]
    }
   ],
   "source": [
    "a = input()\n",
    "count = 0\n",
    "for i in range(len(a)-6):\n",
    "    \n",
    "    if(a[i] == a[i+1] == a[i+2] == a[i+3] == a[i+4] == a[i+5] == a[i+6]):\n",
    "        print(\"YES\")\n",
    "        count = 1\n",
    "        break;\n",
    "                \n",
    "if count == 0:\n",
    "    print(\"NO\")"
   ]
  },
  {
   "cell_type": "code",
   "execution_count": null,
   "metadata": {},
   "outputs": [],
   "source": []
  },
  {
   "cell_type": "code",
   "execution_count": null,
   "metadata": {},
   "outputs": [],
   "source": []
  }
 ],
 "metadata": {
  "kernelspec": {
   "display_name": "Python 3",
   "language": "python",
   "name": "python3"
  },
  "language_info": {
   "codemirror_mode": {
    "name": "ipython",
    "version": 3
   },
   "file_extension": ".py",
   "mimetype": "text/x-python",
   "name": "python",
   "nbconvert_exporter": "python",
   "pygments_lexer": "ipython3",
   "version": "3.7.2"
  }
 },
 "nbformat": 4,
 "nbformat_minor": 2
}
