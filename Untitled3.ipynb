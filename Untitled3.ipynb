{
 "cells": [
  {
   "cell_type": "code",
   "execution_count": null,
   "metadata": {},
   "outputs": [],
   "source": [
    "a = int(input())\n",
    "countt = 0\n",
    "for i in range(a):\n",
    "    print(i)\n",
    "    aa = input()\n",
    "    if(aa ==  (\"X++\"or\"++X\")):\n",
    "        countt = countt + 1\n",
    "    elif(aa ==  (\"X++\"or\"++X\")):\n",
    "        countt = countt + 1\n",
    "    else:\n",
    "        print(\"invalid opreation\")\n",
    "        \n",
    "print(countt)        \n"
   ]
  },
  {
   "cell_type": "code",
   "execution_count": null,
   "metadata": {},
   "outputs": [],
   "source": []
  }
 ],
 "metadata": {
  "kernelspec": {
   "display_name": "Python 3",
   "language": "python",
   "name": "python3"
  },
  "language_info": {
   "codemirror_mode": {
    "name": "ipython",
    "version": 3
   },
   "file_extension": ".py",
   "mimetype": "text/x-python",
   "name": "python",
   "nbconvert_exporter": "python",
   "pygments_lexer": "ipython3",
   "version": "3.7.2"
  }
 },
 "nbformat": 4,
 "nbformat_minor": 2
}
